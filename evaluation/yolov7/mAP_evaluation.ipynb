{
 "cells": [
  {
   "metadata": {
    "ExecuteTime": {
     "end_time": "2024-12-14T01:00:20.951560Z",
     "start_time": "2024-12-14T01:00:20.928819Z"
    }
   },
   "cell_type": "code",
   "source": [
    "%load_ext autoreload\n",
    "%autoreload 2"
   ],
   "id": "3398acd89caa7bac",
   "outputs": [],
   "execution_count": 1
  },
  {
   "metadata": {
    "ExecuteTime": {
     "end_time": "2024-12-15T02:32:37.989666Z",
     "start_time": "2024-12-15T02:32:32.667658Z"
    }
   },
   "cell_type": "code",
   "source": [
    "from pathlib import Path\n",
    "import json\n",
    "import numpy as np\n",
    "from yolov7.utils.data_preparation import copy_split\n",
    "from tools.evaluation import coco2kitti\n",
    "import shutil"
   ],
   "id": "2feae2cdea536dc0",
   "outputs": [],
   "execution_count": 1
  },
  {
   "metadata": {},
   "cell_type": "markdown",
   "source": "## Split Training and Test Data",
   "id": "e6f8c56436d8af1e"
  },
  {
   "metadata": {
    "ExecuteTime": {
     "end_time": "2024-12-14T01:00:54.484190Z",
     "start_time": "2024-12-14T01:00:54.317284Z"
    }
   },
   "cell_type": "code",
   "source": [
    "# Paths to image and label data (for loading the KITTI dataset within Kaggle)\n",
    "base_dir = Path.cwd().parent.parent / \"input\"\n",
    "print(f\"Base Directory : {base_dir}\")\n",
    "img_path = base_dir / \"images\" / \"data_object_image_2\" / \"training\" / \"image_2\"\n",
    "label_path = base_dir / \"labels\"\n",
    "\n",
    "# Loading the classes present in the dataset\n",
    "with open(base_dir / \"classes.json\", \"r\") as f:\n",
    "    classes = json.load(f)\n",
    "print(f\"Classes : {classes}\")\n",
    "\n",
    "# Sorting images and labels to ensure alignment\n",
    "ims = sorted(img_path.glob(\"*\"))\n",
    "labels = sorted(label_path.glob(\"*\"))\n",
    "pairs = list(zip(ims, labels))\n",
    "\n",
    "# Dataset shuffle for randomized train/test split\n",
    "seed = 42  # For reproducibility\n",
    "random_state = np.random.RandomState(seed)\n",
    "random_state.shuffle(pairs)\n",
    "\n",
    "# Calculating the test size (10%)\n",
    "test_size = int(0.1 * len(pairs))\n",
    "splits = {}\n",
    "\n",
    "# Creating 3 distinct splits\n",
    "for i in range(3):\n",
    "    # Select the test set for this split\n",
    "    test_set = pairs[i * test_size : (i + 1) * test_size]\n",
    "    # Select the training set (remaining data)\n",
    "    train_set = pairs[: i * test_size] + pairs[(i + 1) * test_size :]\n",
    "    splits[f\"split{i + 1}\"] = {\"train\": train_set, \"test\": test_set}\n",
    "\n",
    "# Verifying sizes of each split\n",
    "for key, value in splits.items():\n",
    "    train_size = len(value[\"train\"])\n",
    "    test_size = len(value[\"test\"])\n",
    "    print(f\"{key} - Train Size: {train_size}, Test Size: {test_size}\")\n",
    "    assert train_size + test_size == len(\n",
    "        pairs\n",
    "    ), \"Train and test sizes do not add up to total pairs\"\n",
    "\n",
    "# Verifying distinct test sets\n",
    "for i in range(3):\n",
    "    for j in range(i + 1, 3):\n",
    "        assert not set(splits[f\"split{i + 1}\"][\"test\"]).intersection(\n",
    "            set(splits[f\"split{j + 1}\"][\"test\"])\n",
    "        ), f\"Test sets for split{i + 1} and split{j + 1} overlap\"\n"
   ],
   "id": "6bf76491f02ced8e",
   "outputs": [
    {
     "name": "stdout",
     "output_type": "stream",
     "text": [
      "Base Directory : D:\\dev-workspace\\IRO\\input\n",
      "Classes : {'Car': 0, 'Pedestrian': 1, 'Van': 2, 'Cyclist': 3, 'Truck': 4, 'Misc': 5, 'Tram': 6, 'Person_sitting': 7}\n",
      "split1 - Train Size: 6733, Test Size: 748\n",
      "split2 - Train Size: 6733, Test Size: 748\n",
      "split3 - Train Size: 6733, Test Size: 748\n"
     ]
    }
   ],
   "execution_count": 3
  },
  {
   "metadata": {},
   "cell_type": "markdown",
   "source": "## Prepare Data",
   "id": "dbcd52e5c4ae7bda"
  },
  {
   "metadata": {},
   "cell_type": "markdown",
   "source": [
    "Prepare the necessary data for the mAP evaluation in the following folders:\n",
    "\n",
    "```bash\n",
    "./\n",
    "├── mAP/input/                        # Necessary files for mAP evaluation\n",
    "│   ├── detection-results/            # Inference results on KITTI test data\n",
    "│   ├── ground-truth                  # Ground truth labels\n",
    "│   ├── images                         # Ground truth images\n",
    "│   └── images-optional               # (optional) images for animation\n",
    "...\n",
    "```"
   ],
   "id": "a99330912980feb7"
  },
  {
   "metadata": {
    "ExecuteTime": {
     "end_time": "2024-12-14T01:00:59.481489Z",
     "start_time": "2024-12-14T01:00:59.457463Z"
    }
   },
   "cell_type": "code",
   "source": "eval_path = Path('../mAP/input').resolve()",
   "id": "ac17d6be7e157659",
   "outputs": [],
   "execution_count": 4
  },
  {
   "metadata": {},
   "cell_type": "markdown",
   "source": "### Copy Test Dataset",
   "id": "14480396846f9a27"
  },
  {
   "metadata": {
    "ExecuteTime": {
     "end_time": "2024-12-14T03:56:57.873874Z",
     "start_time": "2024-12-14T03:56:57.482315Z"
    }
   },
   "cell_type": "code",
   "source": [
    "if eval_path.exists():\n",
    "    shutil.rmtree(eval_path / 'ground-truth')\n",
    "if eval_path.exists():\n",
    "    shutil.rmtree(eval_path / 'images')\n",
    "\n",
    "(eval_path / 'ground-truth').mkdir(exist_ok=True)\n",
    "(eval_path / 'images').mkdir(exist_ok=True)\n",
    "\n",
    "# (optional) When using animation\n",
    "if eval_path.exists():\n",
    "    shutil.rmtree(eval_path / 'images-optional')\n",
    "(eval_path / 'images-optional').mkdir(exist_ok=True)"
   ],
   "id": "6221f7fb47337039",
   "outputs": [],
   "execution_count": 24
  },
  {
   "metadata": {
    "ExecuteTime": {
     "end_time": "2024-12-14T03:56:59.743392Z",
     "start_time": "2024-12-14T03:56:57.873874Z"
    }
   },
   "cell_type": "code",
   "source": [
    "# Get test data split index and path\n",
    "# test_split = splits['split1']['test']\n",
    "test_split = splits['split2']['test']\n",
    "# test_split = splits['split3']['test']\n",
    "\n",
    "# Copy test dataset to a designated folder\n",
    "copy_split(test_split, eval_path, separate_labels=True, label_folder_name='ground-truth', img_folder_name='images')\n",
    "\n",
    "# (optional) Copy images to images-optional when using animation\n",
    "shutil.copytree(eval_path / 'images', eval_path / 'images-optional', dirs_exist_ok=True)"
   ],
   "id": "d65812174d1af80b",
   "outputs": [
    {
     "name": "stderr",
     "output_type": "stream",
     "text": [
      "100%|██████████| 748/748 [00:01<00:00, 640.68it/s]\n"
     ]
    },
    {
     "data": {
      "text/plain": [
       "WindowsPath('D:/dev-workspace/IRO/evaluation/mAP/input/images-optional')"
      ]
     },
     "execution_count": 25,
     "metadata": {},
     "output_type": "execute_result"
    }
   ],
   "execution_count": 25
  },
  {
   "metadata": {
    "ExecuteTime": {
     "end_time": "2024-12-14T03:57:04.258295Z",
     "start_time": "2024-12-14T03:56:59.743392Z"
    }
   },
   "cell_type": "code",
   "source": [
    "# Only for Fine-tuned YOLOv7 vs. COCO Pretrained YOLOv7 evaluation\n",
    "# coco2kitti(eval_path / 'ground-truth', convert_type=\"groundtruth\")"
   ],
   "id": "5f44f2a6889cbd6e",
   "outputs": [],
   "execution_count": 26
  },
  {
   "metadata": {},
   "cell_type": "markdown",
   "source": "### Copy YOLOv7 Detection Results",
   "id": "9c80fa6c6110cf2c"
  },
  {
   "metadata": {},
   "cell_type": "code",
   "outputs": [],
   "execution_count": 27,
   "source": [
    "if eval_path.exists():\n",
    "    shutil.rmtree(eval_path / 'detection-results')\n",
    "\n",
    "(eval_path / 'detection-results').mkdir(exist_ok=True)"
   ],
   "id": "cb22e892d3c0d22e"
  },
  {
   "metadata": {},
   "cell_type": "code",
   "outputs": [
    {
     "data": {
      "text/plain": [
       "WindowsPath('D:/dev-workspace/IRO/evaluation/mAP/input/detection-results')"
      ]
     },
     "execution_count": 28,
     "metadata": {},
     "output_type": "execute_result"
    }
   ],
   "execution_count": 28,
   "source": [
    "detection_path = Path('./detections')\n",
    "\n",
    "# Only for Fine-tuned YOLOv7 vs. COCO Pretrained YOLOv7 evaluation\n",
    "# coco2kitti(detection_path, convert_type=\"detection\")\n",
    "\n",
    "eval_detection_path = eval_path / 'detection-results'\n",
    "\n",
    "shutil.copytree(detection_path, eval_detection_path, dirs_exist_ok=True)"
   ],
   "id": "f96a6ff4cba5c3c8"
  },
  {
   "metadata": {},
   "cell_type": "markdown",
   "source": "### Convert Label Formats",
   "id": "bc36e3353672f8d6"
  },
  {
   "metadata": {},
   "cell_type": "code",
   "outputs": [],
   "execution_count": 29,
   "source": [
    "if (eval_detection_path / 'backup').exists():\n",
    "    shutil.rmtree(eval_detection_path / 'backup')\n",
    "if (eval_path / 'ground-truth' / 'backup').exists():\n",
    "    shutil.rmtree(eval_path / 'ground-truth' / 'backup')"
   ],
   "id": "132bc25e9bc5969b"
  },
  {
   "metadata": {},
   "cell_type": "code",
   "outputs": [
    {
     "name": "stdout",
     "output_type": "stream",
     "text": [
      "Conversion completed!\n",
      "Conversion completed!\n"
     ]
    }
   ],
   "execution_count": 30,
   "source": [
    "# Convert detection labels\n",
    "!python ../mAP/scripts/extra/convert_kitti_yolov7.py            \n",
    "\n",
    "# Convert ground truth labels\n",
    "!python ../mAP/scripts/extra/convert_kitti_yolov7.py  -gt         "
   ],
   "id": "64aa2448a9aeba66"
  },
  {
   "metadata": {},
   "cell_type": "markdown",
   "source": "## Evaluate",
   "id": "a96d2bbb535a4fd3"
  },
  {
   "metadata": {},
   "cell_type": "code",
   "outputs": [],
   "execution_count": 31,
   "source": [
    "if (Path('../mAP/output')).exists():\n",
    "    shutil.rmtree(Path('../mAP/output'))"
   ],
   "id": "d5e93c1ca80bda79"
  },
  {
   "metadata": {},
   "cell_type": "code",
   "outputs": [
    {
     "name": "stdout",
     "output_type": "stream",
     "text": [
      "67.40% = Car AP \n",
      "49.36% = Pedestrian AP \n",
      "22.63% = Tram AP \n",
      "9.25% = Truck AP \n",
      "mAP = 37.16%\n",
      "Figure(640x480)\n"
     ]
    },
    {
     "name": "stderr",
     "output_type": "stream",
     "text": [
      "[ WARN:0@431.270] global loadsave.cpp:241 cv::findDecoder imread_('output/images/001315.png'): can't open/read file: check file path/integrity\n",
      "[ WARN:0@432.431] global loadsave.cpp:241 cv::findDecoder imread_('output/images/001554.png'): can't open/read file: check file path/integrity\n",
      "[ WARN:0@434.457] global loadsave.cpp:241 cv::findDecoder imread_('output/images/001894.png'): can't open/read file: check file path/integrity\n",
      "[ WARN:0@436.249] global loadsave.cpp:241 cv::findDecoder imread_('output/images/002417.png'): can't open/read file: check file path/integrity\n",
      "[ WARN:0@436.531] global loadsave.cpp:241 cv::findDecoder imread_('output/images/002498.png'): can't open/read file: check file path/integrity\n",
      "[ WARN:0@441.331] global loadsave.cpp:241 cv::findDecoder imread_('output/images/003918.png'): can't open/read file: check file path/integrity\n",
      "[ WARN:0@442.841] global loadsave.cpp:241 cv::findDecoder imread_('output/images/004354.png'): can't open/read file: check file path/integrity\n",
      "[ WARN:0@445.819] global loadsave.cpp:241 cv::findDecoder imread_('output/images/005243.png'): can't open/read file: check file path/integrity\n",
      "[ WARN:0@445.965] global loadsave.cpp:241 cv::findDecoder imread_('output/images/005302.png'): can't open/read file: check file path/integrity\n",
      "[ WARN:0@448.005] global loadsave.cpp:241 cv::findDecoder imread_('output/images/005841.png'): can't open/read file: check file path/integrity\n"
     ]
    }
   ],
   "execution_count": 32,
   "source": "!python ../mAP/main.py",
   "id": "dd59418cd91a2ee6"
  },
  {
   "metadata": {},
   "cell_type": "code",
   "outputs": [],
   "execution_count": null,
   "source": "",
   "id": "ac05824000297c19"
  }
 ],
 "metadata": {
  "kernelspec": {
   "display_name": "Python 3",
   "language": "python",
   "name": "python3"
  },
  "language_info": {
   "codemirror_mode": {
    "name": "ipython",
    "version": 2
   },
   "file_extension": ".py",
   "mimetype": "text/x-python",
   "name": "python",
   "nbconvert_exporter": "python",
   "pygments_lexer": "ipython2",
   "version": "2.7.6"
  }
 },
 "nbformat": 4,
 "nbformat_minor": 5
}
