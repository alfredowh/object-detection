{
 "cells": [
  {
   "metadata": {
    "ExecuteTime": {
     "end_time": "2024-12-15T13:29:33.791152Z",
     "start_time": "2024-12-15T13:29:33.763482Z"
    }
   },
   "cell_type": "code",
   "source": [
    "%load_ext autoreload\n",
    "%autoreload 2"
   ],
   "id": "3398acd89caa7bac",
   "outputs": [],
   "execution_count": 1
  },
  {
   "metadata": {
    "ExecuteTime": {
     "end_time": "2024-12-16T01:30:59.201490Z",
     "start_time": "2024-12-16T01:30:59.190911Z"
    }
   },
   "cell_type": "code",
   "source": [
    "from pathlib import Path\n",
    "import shutil\n",
    "from yolov7.utils.data_preparation import copytree_with_suffix\n",
    "import os\n"
   ],
   "id": "2feae2cdea536dc0",
   "outputs": [],
   "execution_count": 315
  },
  {
   "metadata": {},
   "cell_type": "markdown",
   "source": "## Load Test Data",
   "id": "d4817e28cdde34ee"
  },
  {
   "metadata": {
    "ExecuteTime": {
     "end_time": "2024-12-16T01:30:59.519645Z",
     "start_time": "2024-12-16T01:30:59.515565Z"
    }
   },
   "cell_type": "code",
   "source": "eval_path = Path('../mAP/input').resolve()",
   "id": "a6b4b6f0a7735e44",
   "outputs": [],
   "execution_count": 316
  },
  {
   "metadata": {
    "ExecuteTime": {
     "end_time": "2024-12-16T01:30:59.759976Z",
     "start_time": "2024-12-16T01:30:59.674464Z"
    }
   },
   "cell_type": "code",
   "source": [
    "if eval_path.exists():\n",
    "    shutil.rmtree(eval_path / 'ground-truth')\n",
    "if eval_path.exists():\n",
    "    shutil.rmtree(eval_path / 'images')\n",
    "\n",
    "(eval_path / 'ground-truth').mkdir(exist_ok=True)\n",
    "(eval_path / 'images').mkdir(exist_ok=True)\n",
    "\n",
    "# (optional) When using animation\n",
    "if eval_path.exists():\n",
    "    shutil.rmtree(eval_path / 'images-optional')\n",
    "(eval_path / 'images-optional').mkdir(exist_ok=True)"
   ],
   "id": "edfc7d1ace7e5a21",
   "outputs": [],
   "execution_count": 317
  },
  {
   "metadata": {},
   "cell_type": "markdown",
   "source": "## Copy All Data Folders",
   "id": "9ec11c01e3077310"
  },
  {
   "metadata": {
    "ExecuteTime": {
     "end_time": "2024-12-16T01:30:59.973753Z",
     "start_time": "2024-12-16T01:30:59.966520Z"
    }
   },
   "cell_type": "code",
   "source": "data_path = Path('../../gazebo_data')",
   "id": "6c24432e561c33c2",
   "outputs": [],
   "execution_count": 318
  },
  {
   "metadata": {
    "ExecuteTime": {
     "end_time": "2024-12-16T01:31:00.137210Z",
     "start_time": "2024-12-16T01:31:00.131902Z"
    }
   },
   "cell_type": "code",
   "source": [
    "# data_folders = os.listdir(data_path)\n",
    "# for data_folder in data_folders:\n",
    "#     copytree_with_suffix(data_path / data_folder / 'labels', eval_path / 'ground-truth', f'_{data_folder}')\n",
    "#     copytree_with_suffix(data_path / data_folder / 'images', eval_path / 'images', f'_{data_folder}')\n",
    "#     copytree_with_suffix(data_path / data_folder / 'images', eval_path / 'images-optional', f'_{data_folder}')"
   ],
   "id": "5b4a34f1b82add2e",
   "outputs": [],
   "execution_count": 319
  },
  {
   "metadata": {
    "ExecuteTime": {
     "end_time": "2024-12-16T01:31:00.297494Z",
     "start_time": "2024-12-16T01:31:00.284793Z"
    }
   },
   "cell_type": "code",
   "source": [
    "# # Weather condition \n",
    "# data_folders = [\"asphalt_clear\", \"asphalt_cloudy\", \"gray_clear\", \"gray_cloudy\", \"gray_night\", \"gray_sunset\"]\n",
    "# env = \"fog\"     # \"\", \"rain\", \"fog\"\n",
    "# \n",
    "# for data_folder in data_folders:\n",
    "#     copytree_with_suffix(data_path / f\"{data_folder}_{env}\" / 'labels', eval_path / 'ground-truth', f'_{data_folder}_{env}')\n",
    "#     copytree_with_suffix(data_path / f\"{data_folder}_{env}\" / 'images', eval_path / 'images', f'_{data_folder}_{env}')\n",
    "#     copytree_with_suffix(data_path / f\"{data_folder}_{env}\" / 'images', eval_path / 'images-optional', f'_{data_folder}_{env}')"
   ],
   "id": "b16fc47e4a0bedbb",
   "outputs": [],
   "execution_count": 320
  },
  {
   "metadata": {
    "ExecuteTime": {
     "end_time": "2024-12-16T01:31:00.647303Z",
     "start_time": "2024-12-16T01:31:00.432211Z"
    }
   },
   "cell_type": "code",
   "source": [
    "# Time of Day\n",
    "tod = \"night\"   # \"clear\", \"cloudy\", \"sunset\", \"night\"\n",
    "data_folders = os.listdir(data_path)\n",
    "\n",
    "for data_folder in data_folders:\n",
    "    if tod in data_folder:\n",
    "        copytree_with_suffix(data_path / data_folder / 'labels', eval_path / 'ground-truth', f'_{data_folder}')\n",
    "        copytree_with_suffix(data_path / data_folder / 'images', eval_path / 'images', f'_{data_folder}')\n",
    "        copytree_with_suffix(data_path / data_folder / 'images', eval_path / 'images-optional', f'_{data_folder}')"
   ],
   "id": "f9d61359d1ffb4cd",
   "outputs": [],
   "execution_count": 321
  },
  {
   "metadata": {},
   "cell_type": "markdown",
   "source": "## Copy Single Data Folder",
   "id": "c8aa531aa85a071a"
  },
  {
   "metadata": {
    "ExecuteTime": {
     "end_time": "2024-12-16T01:31:00.761276Z",
     "start_time": "2024-12-16T01:31:00.743149Z"
    }
   },
   "cell_type": "code",
   "source": [
    "# data_path = Path('../../gazebo_data')\n",
    "# data_folder = 'asphalt_clear'\n",
    "# image_path = data_path / data_folder / 'images'\n",
    "# gt_path = data_path / data_folder / 'labels'\n",
    "# \n",
    "# shutil.copytree(image_path, eval_path / 'images', dirs_exist_ok=True)\n",
    "# shutil.copytree(image_path, eval_path / 'images-optional', dirs_exist_ok=True)\n",
    "# shutil.copytree(gt_path, eval_path / 'ground-truth', dirs_exist_ok=True)"
   ],
   "id": "30b3e14adbc4e5d6",
   "outputs": [],
   "execution_count": 322
  },
  {
   "metadata": {},
   "cell_type": "markdown",
   "source": "### Copy YOLOv7 Detection Results",
   "id": "9c80fa6c6110cf2c"
  },
  {
   "metadata": {
    "ExecuteTime": {
     "end_time": "2024-12-16T01:31:01.159360Z",
     "start_time": "2024-12-16T01:31:01.109473Z"
    }
   },
   "cell_type": "code",
   "source": [
    "if eval_path.exists():\n",
    "    shutil.rmtree(eval_path / 'detection-results')\n",
    "\n",
    "(eval_path / 'detection-results').mkdir(exist_ok=True)"
   ],
   "id": "cb22e892d3c0d22e",
   "outputs": [],
   "execution_count": 323
  },
  {
   "metadata": {
    "ExecuteTime": {
     "end_time": "2024-12-16T01:31:01.341198Z",
     "start_time": "2024-12-16T01:31:01.284013Z"
    }
   },
   "cell_type": "code",
   "source": [
    "detection_path = Path('./detections')\n",
    "\n",
    "eval_detection_path = eval_path / 'detection-results'\n",
    "\n",
    "shutil.copytree(detection_path, eval_detection_path, dirs_exist_ok=True)"
   ],
   "id": "f96a6ff4cba5c3c8",
   "outputs": [
    {
     "data": {
      "text/plain": [
       "WindowsPath('D:/dev-workspace/IRO/evaluation/mAP/input/detection-results')"
      ]
     },
     "execution_count": 324,
     "metadata": {},
     "output_type": "execute_result"
    }
   ],
   "execution_count": 324
  },
  {
   "metadata": {},
   "cell_type": "markdown",
   "source": "### Convert Label Formats",
   "id": "bc36e3353672f8d6"
  },
  {
   "metadata": {
    "ExecuteTime": {
     "end_time": "2024-12-16T01:31:02.913126Z",
     "start_time": "2024-12-16T01:31:02.906354Z"
    }
   },
   "cell_type": "code",
   "source": [
    "if (eval_detection_path / 'backup').exists():\n",
    "    shutil.rmtree(eval_detection_path / 'backup')\n",
    "if (eval_path / 'ground-truth' / 'backup').exists():\n",
    "    shutil.rmtree(eval_path / 'ground-truth' / 'backup')"
   ],
   "id": "132bc25e9bc5969b",
   "outputs": [],
   "execution_count": 325
  },
  {
   "metadata": {
    "ExecuteTime": {
     "end_time": "2024-12-16T01:31:08.379453Z",
     "start_time": "2024-12-16T01:31:03.081555Z"
    }
   },
   "cell_type": "code",
   "source": [
    "# Convert detection labels\n",
    "!python ../mAP/scripts/extra/convert_kitti_yolov7.py            \n",
    "\n",
    "# Convert ground truth labels\n",
    "!python ../mAP/scripts/extra/convert_kitti_yolov7.py  -gt         "
   ],
   "id": "64aa2448a9aeba66",
   "outputs": [
    {
     "name": "stdout",
     "output_type": "stream",
     "text": [
      "Conversion completed!\n",
      "Conversion completed!\n"
     ]
    }
   ],
   "execution_count": 326
  },
  {
   "metadata": {},
   "cell_type": "markdown",
   "source": "## Evaluate",
   "id": "a96d2bbb535a4fd3"
  },
  {
   "metadata": {
    "ExecuteTime": {
     "end_time": "2024-12-16T01:31:08.439272Z",
     "start_time": "2024-12-16T01:31:08.380461Z"
    }
   },
   "cell_type": "code",
   "source": [
    "if (Path('../mAP/output')).exists():\n",
    "    shutil.rmtree(Path('../mAP/output'))"
   ],
   "id": "d5e93c1ca80bda79",
   "outputs": [],
   "execution_count": 327
  },
  {
   "metadata": {
    "ExecuteTime": {
     "end_time": "2024-12-16T01:31:44.421176Z",
     "start_time": "2024-12-16T01:31:08.439272Z"
    }
   },
   "cell_type": "code",
   "source": "!python ../mAP/main.py",
   "id": "dd59418cd91a2ee6",
   "outputs": [
    {
     "name": "stdout",
     "output_type": "stream",
     "text": [
      "38.26% = Car AP \n",
      "72.99% = Pedestrian AP \n",
      "9.54% = Truck AP \n",
      "mAP = 40.26%\n",
      "Figure(640x480)\n"
     ]
    },
    {
     "name": "stderr",
     "output_type": "stream",
     "text": [
      "[ WARN:0@28.864] global loadsave.cpp:241 cv::findDecoder imread_('output/images/0011_gray_night_rain.jpeg'): can't open/read file: check file path/integrity\n",
      "[ WARN:0@29.664] global loadsave.cpp:241 cv::findDecoder imread_('output/images/0018_gray_night.jpeg'): can't open/read file: check file path/integrity\n",
      "[ WARN:0@29.708] global loadsave.cpp:241 cv::findDecoder imread_('output/images/0018_gray_night_fog.jpeg'): can't open/read file: check file path/integrity\n",
      "[ WARN:0@29.807] global loadsave.cpp:241 cv::findDecoder imread_('output/images/0019_gray_night.jpeg'): can't open/read file: check file path/integrity\n",
      "[ WARN:0@29.852] global loadsave.cpp:241 cv::findDecoder imread_('output/images/0019_gray_night_fog.jpeg'): can't open/read file: check file path/integrity\n",
      "[ WARN:0@30.085] global loadsave.cpp:241 cv::findDecoder imread_('output/images/0020_gray_night.jpeg'): can't open/read file: check file path/integrity\n",
      "[ WARN:0@30.129] global loadsave.cpp:241 cv::findDecoder imread_('output/images/0020_gray_night_fog.jpeg'): can't open/read file: check file path/integrity\n",
      "[ WARN:0@30.259] global loadsave.cpp:241 cv::findDecoder imread_('output/images/0021_gray_night_fog.jpeg'): can't open/read file: check file path/integrity\n",
      "[ WARN:0@30.401] global loadsave.cpp:241 cv::findDecoder imread_('output/images/0022_gray_night_fog.jpeg'): can't open/read file: check file path/integrity\n",
      "[ WARN:0@30.526] global loadsave.cpp:241 cv::findDecoder imread_('output/images/0023_gray_night_fog.jpeg'): can't open/read file: check file path/integrity\n",
      "[ WARN:0@30.636] global loadsave.cpp:241 cv::findDecoder imread_('output/images/0024_gray_night.jpeg'): can't open/read file: check file path/integrity\n",
      "[ WARN:0@30.674] global loadsave.cpp:241 cv::findDecoder imread_('output/images/0024_gray_night_fog.jpeg'): can't open/read file: check file path/integrity\n",
      "[ WARN:0@30.707] global loadsave.cpp:241 cv::findDecoder imread_('output/images/0024_gray_night_rain.jpeg'): can't open/read file: check file path/integrity\n",
      "[ WARN:0@30.746] global loadsave.cpp:241 cv::findDecoder imread_('output/images/0025_gray_night.jpeg'): can't open/read file: check file path/integrity\n",
      "[ WARN:0@30.795] global loadsave.cpp:241 cv::findDecoder imread_('output/images/0025_gray_night_fog.jpeg'): can't open/read file: check file path/integrity\n",
      "[ WARN:0@30.851] global loadsave.cpp:241 cv::findDecoder imread_('output/images/0025_gray_night_rain.jpeg'): can't open/read file: check file path/integrity\n",
      "[ WARN:0@30.902] global loadsave.cpp:241 cv::findDecoder imread_('output/images/0026_gray_night.jpeg'): can't open/read file: check file path/integrity\n",
      "[ WARN:0@30.942] global loadsave.cpp:241 cv::findDecoder imread_('output/images/0026_gray_night_fog.jpeg'): can't open/read file: check file path/integrity\n",
      "[ WARN:0@30.977] global loadsave.cpp:241 cv::findDecoder imread_('output/images/0026_gray_night_rain.jpeg'): can't open/read file: check file path/integrity\n",
      "[ WARN:0@31.210] global loadsave.cpp:241 cv::findDecoder imread_('output/images/0028_gray_night_rain.jpeg'): can't open/read file: check file path/integrity\n",
      "[ WARN:0@31.733] global loadsave.cpp:241 cv::findDecoder imread_('output/images/0031_gray_night_rain.jpeg'): can't open/read file: check file path/integrity\n",
      "[ WARN:0@31.917] global loadsave.cpp:241 cv::findDecoder imread_('output/images/0033_gray_night.jpeg'): can't open/read file: check file path/integrity\n",
      "[ WARN:0@31.950] global loadsave.cpp:241 cv::findDecoder imread_('output/images/0033_gray_night_fog.jpeg'): can't open/read file: check file path/integrity\n",
      "[ WARN:0@31.985] global loadsave.cpp:241 cv::findDecoder imread_('output/images/0033_gray_night_rain.jpeg'): can't open/read file: check file path/integrity\n",
      "[ WARN:0@33.861] global loadsave.cpp:241 cv::findDecoder imread_('output/images/0048_gray_night.jpeg'): can't open/read file: check file path/integrity\n",
      "[ WARN:0@33.981] global loadsave.cpp:241 cv::findDecoder imread_('output/images/0049_gray_night.jpeg'): can't open/read file: check file path/integrity\n",
      "[ WARN:0@34.031] global loadsave.cpp:241 cv::findDecoder imread_('output/images/0049_gray_night_fog.jpeg'): can't open/read file: check file path/integrity\n",
      "[ WARN:0@34.081] global loadsave.cpp:241 cv::findDecoder imread_('output/images/0049_gray_night_rain.jpeg'): can't open/read file: check file path/integrity\n",
      "[ WARN:0@34.273] global loadsave.cpp:241 cv::findDecoder imread_('output/images/0050_gray_night_fog.jpeg'): can't open/read file: check file path/integrity\n",
      "[ WARN:0@34.335] global loadsave.cpp:241 cv::findDecoder imread_('output/images/0051_gray_night.jpeg'): can't open/read file: check file path/integrity\n",
      "[ WARN:0@34.371] global loadsave.cpp:241 cv::findDecoder imread_('output/images/0051_gray_night_fog.jpeg'): can't open/read file: check file path/integrity\n",
      "[ WARN:0@34.401] global loadsave.cpp:241 cv::findDecoder imread_('output/images/0051_gray_night_rain.jpeg'): can't open/read file: check file path/integrity\n",
      "[ WARN:0@34.465] global loadsave.cpp:241 cv::findDecoder imread_('output/images/0052_gray_night.jpeg'): can't open/read file: check file path/integrity\n",
      "[ WARN:0@34.496] global loadsave.cpp:241 cv::findDecoder imread_('output/images/0052_gray_night_fog.jpeg'): can't open/read file: check file path/integrity\n",
      "[ WARN:0@34.541] global loadsave.cpp:241 cv::findDecoder imread_('output/images/0052_gray_night_rain.jpeg'): can't open/read file: check file path/integrity\n",
      "[ WARN:0@34.577] global loadsave.cpp:241 cv::findDecoder imread_('output/images/0053_gray_night.jpeg'): can't open/read file: check file path/integrity\n",
      "[ WARN:0@34.609] global loadsave.cpp:241 cv::findDecoder imread_('output/images/0053_gray_night_fog.jpeg'): can't open/read file: check file path/integrity\n",
      "[ WARN:0@34.644] global loadsave.cpp:241 cv::findDecoder imread_('output/images/0053_gray_night_rain.jpeg'): can't open/read file: check file path/integrity\n"
     ]
    }
   ],
   "execution_count": 328
  },
  {
   "metadata": {},
   "cell_type": "code",
   "outputs": [],
   "execution_count": null,
   "source": "    ",
   "id": "ac05824000297c19"
  }
 ],
 "metadata": {
  "kernelspec": {
   "display_name": "Python 3",
   "language": "python",
   "name": "python3"
  },
  "language_info": {
   "codemirror_mode": {
    "name": "ipython",
    "version": 2
   },
   "file_extension": ".py",
   "mimetype": "text/x-python",
   "name": "python",
   "nbconvert_exporter": "python",
   "pygments_lexer": "ipython2",
   "version": "2.7.6"
  }
 },
 "nbformat": 4,
 "nbformat_minor": 5
}
